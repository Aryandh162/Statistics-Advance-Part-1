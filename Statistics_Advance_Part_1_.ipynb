{
  "nbformat": 4,
  "nbformat_minor": 0,
  "metadata": {
    "colab": {
      "provenance": []
    },
    "kernelspec": {
      "name": "python3",
      "display_name": "Python 3"
    },
    "language_info": {
      "name": "python"
    }
  },
  "cells": [
    {
      "cell_type": "markdown",
      "source": [
        "#Statistics Advance Part 1 Assignment"
      ],
      "metadata": {
        "id": "3fLxe1NHksx6"
      }
    },
    {
      "cell_type": "markdown",
      "source": [
        "1. What is a random variable in probability theory?\n"
      ],
      "metadata": {
        "id": "Byc8jrMzk2Oa"
      }
    },
    {
      "cell_type": "markdown",
      "source": [
        "=> In probability theory, a random variable is a variable whose value is a numerical outcome of a random phenomenon. It's a function that maps outcomes of a random process to numerical values."
      ],
      "metadata": {
        "id": "Ci3Reot4mOzV"
      }
    },
    {
      "cell_type": "markdown",
      "source": [
        "2. What are the types of random variables?\n"
      ],
      "metadata": {
        "id": "-neIhQn8ljhE"
      }
    },
    {
      "cell_type": "markdown",
      "source": [
        "=> Random variables are broadly classified into two main types:\n",
        "1. Discrete Random Variables\n",
        "2. Continuous Random Variables"
      ],
      "metadata": {
        "id": "mQd_ckgVmXsp"
      }
    },
    {
      "cell_type": "markdown",
      "source": [
        "3. What is the difference between discrete and continuous distributions?\n"
      ],
      "metadata": {
        "id": "eFd_G1b3lldG"
      }
    },
    {
      "cell_type": "markdown",
      "source": [
        "=> Discrete Distributions\n",
        "\n",
        "Discrete distributions are used to model random variables that can only take on specific, distinct values. These values are often integers or whole numbers. The probability of each possible value occurring can be explicitly calculated using a probability mass function (PMF).\n",
        "\n",
        "Continuous Distributions\n",
        "\n",
        "Continuous distributions are used to model random variables that can take on any value within a specified range. These distributions are characterized by a probability density function (PDF) rather than a PMF."
      ],
      "metadata": {
        "id": "DD77UE0Tmhh7"
      }
    },
    {
      "cell_type": "markdown",
      "source": [
        "4. What are probability distribution functions (PDF)?\n"
      ],
      "metadata": {
        "id": "Drvvawy4lnP6"
      }
    },
    {
      "cell_type": "markdown",
      "source": [
        "=> Probability distribution Function is the function of probability defined for various distributions of variables and is the less common topic in the study of probability throughout the academic journey of students."
      ],
      "metadata": {
        "id": "-rDgcVJFm9YI"
      }
    },
    {
      "cell_type": "markdown",
      "source": [
        "5. How do cumulative distribution functions (CDF) differ from probability distribution functions (PDF)?\n"
      ],
      "metadata": {
        "id": "93P8or8ZlpAA"
      }
    },
    {
      "cell_type": "markdown",
      "source": [
        "=>\n",
        "* Cumulative Distribution Functions\n",
        "\n",
        "A cumulative distribution function (cdf) tells us the probability that a random variable takes on a value less than or equal to x.\n",
        "* Probability Density Functions\n",
        "\n",
        "A probability density function (pdf) tells us the probability that a random variable takes on a certain value."
      ],
      "metadata": {
        "id": "ltfs0wLenXh7"
      }
    },
    {
      "cell_type": "markdown",
      "source": [
        "6. What is a discrete uniform distribution?\n"
      ],
      "metadata": {
        "id": "65nqktJBlrOR"
      }
    },
    {
      "cell_type": "markdown",
      "source": [
        "=> Discrete Uniform Distribution\n",
        "\n",
        "A discrete uniform distribution is a probability distribution where a finite number of values are equally likely to be observed. In other words, each value has the same probability of occurring."
      ],
      "metadata": {
        "id": "t5FaoTzEnnpM"
      }
    },
    {
      "cell_type": "markdown",
      "source": [
        "7. What are the key properties of a Bernoulli distribution?"
      ],
      "metadata": {
        "id": "1KleD3QaltCV"
      }
    },
    {
      "cell_type": "markdown",
      "source": [
        "=> Bernoulli Distribution\n",
        "\n",
        "The Bernoulli distribution is a discrete probability distribution that models the probability of a single trial or experiment having two possible outcomes: success or failure.\n",
        "\n",
        " Key Properties:-\n",
        "* Binary Outcomes\n",
        "* take on two values\n",
        "* Probability Mass Function (PMF)"
      ],
      "metadata": {
        "id": "uVovvC-_nvaW"
      }
    },
    {
      "cell_type": "markdown",
      "source": [
        "8. What is the binomial distribution, and how is it used in probability?"
      ],
      "metadata": {
        "id": "HxVC3UZ6lvJa"
      }
    },
    {
      "cell_type": "markdown",
      "source": [
        "=> The binomial distribution is a discrete probability distribution that describes the probability of obtaining exactly k successes in n independent Bernoulli trials, where each trial has the same probability of success, denoted by p."
      ],
      "metadata": {
        "id": "q1gT_qqBn_kP"
      }
    },
    {
      "cell_type": "markdown",
      "source": [
        "9. What is the Poisson distribution and where is it applied?\n"
      ],
      "metadata": {
        "id": "3tQnML0qlxKX"
      }
    },
    {
      "cell_type": "markdown",
      "source": [
        "=> Poisson Distribution\n",
        "\n",
        "The Poisson distribution is a discrete probability distribution that expresses the probability of a given number of events occurring in a fixed interval of time or space if these events occur with a known average rate and independently of the time since the last event."
      ],
      "metadata": {
        "id": "08o9mf2joFhA"
      }
    },
    {
      "cell_type": "markdown",
      "source": [
        "10. What is a continuous uniform distribution?"
      ],
      "metadata": {
        "id": "h8EtGy7Kly5l"
      }
    },
    {
      "cell_type": "markdown",
      "source": [
        "=> Continuous Uniform Distribution\n",
        "\n",
        "The continuous uniform distribution is a probability distribution where all values within a given range are equally likely to occur. It is also known as the rectangular distribution because its probability density function (PDF) has a rectangular shape."
      ],
      "metadata": {
        "id": "PeGQy0E6oWuJ"
      }
    },
    {
      "cell_type": "markdown",
      "source": [
        "11. What are the characteristics of a normal distribution?\n"
      ],
      "metadata": {
        "id": "IXl_PoiIl1Kr"
      }
    },
    {
      "cell_type": "markdown",
      "source": [
        "=> Normal Distribution\n",
        "\n",
        "The normal distribution is a continuous probability distribution that is symmetric and bell-shaped. It is one of the most important distributions in statistics due to its wide applicability in natural and social sciences."
      ],
      "metadata": {
        "id": "WnDk6zLuoc07"
      }
    },
    {
      "cell_type": "markdown",
      "source": [
        "12. What is the standard normal distribution, and why is it important?\n"
      ],
      "metadata": {
        "id": "vV8B497-l3et"
      }
    },
    {
      "cell_type": "markdown",
      "source": [
        "=> Standard Normal Distribution\n",
        "\n",
        "The standard normal distribution is a special case of the normal distribution with a mean (μ) of 0 and a standard deviation (σ) of 1. It is often denoted by the letter Z.The standard normal distribution is important for several reasons:\n",
        "* Standardization\n",
        "* Probability Calculations\n",
        "* Hypothesis Testing\n",
        "* Confidence Intervals"
      ],
      "metadata": {
        "id": "BjvZh1WdogFt"
      }
    },
    {
      "cell_type": "markdown",
      "source": [
        "13. What is the Central Limit Theorem (CLT), and why is it critical in statistics?\n"
      ],
      "metadata": {
        "id": "4ImEDEOVl5Mv"
      }
    },
    {
      "cell_type": "markdown",
      "source": [
        "=> The Central Limit Theorem in Statistics states that as the sample size increases and its variance is finite, then the distribution of the sample mean approaches normal distribution irrespective of the shape of the population distribution.The central limit theorem posits that the distribution of sample means will invariably conform to a normal distribution provided the sample size is sufficiently large. This holds regardless of the underlying distribution of the population, be it normal, Poisson, binomial, or any alternative distribution."
      ],
      "metadata": {
        "id": "nK7KMuB_o_Y9"
      }
    },
    {
      "cell_type": "markdown",
      "source": [
        "14. How does the Central Limit Theorem relate to the normal distribution?\n"
      ],
      "metadata": {
        "id": "Qbo7Mb_5l61x"
      }
    },
    {
      "cell_type": "markdown",
      "source": [
        "=> The central limit theorem posits that the distribution of sample means will invariably conform to a normal distribution provided the sample size is sufficiently large. This holds regardless of the underlying distribution of the population, be it normal, Poisson, binomial, or any alternative distribution."
      ],
      "metadata": {
        "id": "F7rKBVkwpDf6"
      }
    },
    {
      "cell_type": "markdown",
      "source": [
        "15. What is the application of Z statistics in hypothesis testing?\n"
      ],
      "metadata": {
        "id": "US78mO51l8VD"
      }
    },
    {
      "cell_type": "markdown",
      "source": [
        "=> A Z-test is a statistical method used to determine whether there is a significant difference between the mean of a sample and a known population mean, especially when the population standard deviation is known and the sample size is large (typically greater than 30). It is commonly used in hypothesis testing to compare sample data against a population parameter."
      ],
      "metadata": {
        "id": "GfGXs2VZpP6l"
      }
    },
    {
      "cell_type": "markdown",
      "source": [
        "16. How do you calculate a Z-score, and what does it represent?\n"
      ],
      "metadata": {
        "id": "aO5MAwg3l9yf"
      }
    },
    {
      "cell_type": "markdown",
      "source": [
        "=> We use the following formula to calculate a z-score: z = (X – μ) / σ where: A z-score for an individual value can be interpreted as follows: Positive z-score: The individual value is greater than the mean. Negative z-score: The individual value is less than the mean"
      ],
      "metadata": {
        "id": "XF4aUBfEpWZ7"
      }
    },
    {
      "cell_type": "markdown",
      "source": [
        "17. What are point estimates and interval estimates in statistics?\n"
      ],
      "metadata": {
        "id": "MMW3QeDSl_cY"
      }
    },
    {
      "cell_type": "markdown",
      "source": [
        "=> A point estimate provides a single, specific value as the best guess for a parameter, such as using the sample mean to estimate a population mean. In contrast, an interval estimate gives a range of values that is likely to contain the population parameter, often expressed as a confidence interval."
      ],
      "metadata": {
        "id": "4PIzpkQ7pXvN"
      }
    },
    {
      "cell_type": "markdown",
      "source": [
        "18. What is the significance of confidence intervals in statistical analysis?\n"
      ],
      "metadata": {
        "id": "jlm643cimBOj"
      }
    },
    {
      "cell_type": "markdown",
      "source": [
        "=>Confidence Interval (CI) is a range of values that estimates where the true population value is likely to fall. Instead of just saying The average height of students is 165 cm a confidence interval allow us to say We are 95% confident that the true average height is between 160 cm and 170 cm.\n",
        "\n",
        "Before diving into confidence intervals you should be familiar with:\n",
        "\n",
        "* t-test\n",
        "* z-test"
      ],
      "metadata": {
        "id": "-gwiY2Wzpbw9"
      }
    },
    {
      "cell_type": "markdown",
      "source": [
        "19. What is the relationship between a Z-score and a confidence interval?\n"
      ],
      "metadata": {
        "id": "hmlyDh72mC3B"
      }
    },
    {
      "cell_type": "markdown",
      "source": [
        "=> To calculate the z-score for a confidence interval, find the complement of the confidence level (1 - C), divide by 2, then use a z-table or calculator to find the z-score corresponding to the cumulative probability (1 - α/2).\n",
        "\n",
        "z-score represents the number of standard deviations a data point is from the mean of a standard normal distribution."
      ],
      "metadata": {
        "id": "fByk9LwOpuy4"
      }
    },
    {
      "cell_type": "markdown",
      "source": [
        "20. How are Z-scores used to compare different distributions?"
      ],
      "metadata": {
        "id": "m8r3hPwAmEuM"
      }
    },
    {
      "cell_type": "markdown",
      "source": [
        "=> Z-scores allow for the comparison of data points from different distributions. An element having a z-score greater than 0 represents that the element is greater than the mean. An element having a z-score equal to 0 represents that the element is equal to the mean."
      ],
      "metadata": {
        "id": "P4NuKnXQpzqT"
      }
    },
    {
      "cell_type": "markdown",
      "source": [
        "21. What are the assumptions for applying the Central Limit Theorem?\n"
      ],
      "metadata": {
        "id": "rEBr1q9imGa3"
      }
    },
    {
      "cell_type": "markdown",
      "source": [
        "=> The Central Limit Theorem is valid for the following conditions: The drawing of the sample from the population should be random. The drawing of the sample should be independent of each other."
      ],
      "metadata": {
        "id": "pqZy5ygyp1i3"
      }
    },
    {
      "cell_type": "markdown",
      "source": [
        "22. What is the concept of expected value in a probability distribution?\n"
      ],
      "metadata": {
        "id": "NYiV_79ImH6M"
      }
    },
    {
      "cell_type": "markdown",
      "source": [
        "=> The expected value in statistics is the long-run average outcome of a random variable based on its possible outcomes and their respective probabilities. Essentially, if an experiment (like a game of chance) were repeated, the expected value tells us the average result we’d see in the long run."
      ],
      "metadata": {
        "id": "cg9ctSTPp9rF"
      }
    },
    {
      "cell_type": "markdown",
      "source": [
        "23. How does a probability distribution relate to the expected outcome of a random variable?"
      ],
      "metadata": {
        "id": "KASDbC7rmKLh"
      }
    },
    {
      "cell_type": "markdown",
      "source": [
        "=> A probability distribution describes how probabilities are distributed across the different values or outcomes of a (random) variable. It shows how likely the different values or outcomes are, highlighting the most and least probable outcomes."
      ],
      "metadata": {
        "id": "RhQ0heSTp-0s"
      }
    }
  ]
}